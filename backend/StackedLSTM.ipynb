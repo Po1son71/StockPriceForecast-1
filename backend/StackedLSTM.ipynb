{
 "cells": [
  {
   "cell_type": "code",
   "execution_count": 15,
   "metadata": {
    "executionInfo": {
     "elapsed": 405,
     "status": "ok",
     "timestamp": 1672061355144,
     "user": {
      "displayName": "Prajwal D.",
      "userId": "14447594046047781519"
     },
     "user_tz": -345
    },
    "id": "k_SeHsmKqxlg"
   },
   "outputs": [],
   "source": [
    "### 1. Collect the stock data\n",
    "### 2. Preprocess the Data - Train & Test\n",
    "### 3. Create an Stacked LSTM Model\n",
    "### 4. Predict the test data and plot the output\n",
    "### 5. Predict the future 30 dats and plot the output"
   ]
  },
  {
   "cell_type": "code",
   "execution_count": 16,
   "metadata": {
    "executionInfo": {
     "elapsed": 951,
     "status": "ok",
     "timestamp": 1672061356497,
     "user": {
      "displayName": "Prajwal D.",
      "userId": "14447594046047781519"
     },
     "user_tz": -345
    },
    "id": "1RP9EPA1V3Bq"
   },
   "outputs": [],
   "source": [
    "import pandas_datareader as pdr"
   ]
  },
  {
   "cell_type": "code",
   "execution_count": 17,
   "metadata": {
    "executionInfo": {
     "elapsed": 16,
     "status": "ok",
     "timestamp": 1672061356497,
     "user": {
      "displayName": "Prajwal D.",
      "userId": "14447594046047781519"
     },
     "user_tz": -345
    },
    "id": "3gT-MJuVZ0t3"
   },
   "outputs": [
    {
     "name": "stderr",
     "output_type": "stream",
     "text": [
      "C:\\Users\\prajw\\AppData\\Local\\Temp\\ipykernel_19080\\965517774.py:3: FutureWarning: In a future version of pandas all arguments of concat except for the argument 'objs' will be keyword-only.\n",
      "  df = pdr.get_data_tiingo(tickerSym, api_key=key)\n"
     ]
    }
   ],
   "source": [
    "tickerSym='TSLA'\n",
    "key='c1755d754ae022eef0eb4bf39ba4c92a9216406a'\n",
    "df = pdr.get_data_tiingo(tickerSym, api_key=key)\n",
    "df.to_csv(tickerSym+'.csv')"
   ]
  },
  {
   "cell_type": "code",
   "execution_count": 18,
   "metadata": {
    "executionInfo": {
     "elapsed": 16,
     "status": "ok",
     "timestamp": 1672061356498,
     "user": {
      "displayName": "Prajwal D.",
      "userId": "14447594046047781519"
     },
     "user_tz": -345
    },
    "id": "w84sVZ8rabVF"
   },
   "outputs": [],
   "source": [
    "import pandas as pd"
   ]
  },
  {
   "cell_type": "code",
   "execution_count": 19,
   "metadata": {
    "executionInfo": {
     "elapsed": 16,
     "status": "ok",
     "timestamp": 1672061356498,
     "user": {
      "displayName": "Prajwal D.",
      "userId": "14447594046047781519"
     },
     "user_tz": -345
    },
    "id": "c-xwFTjWbsKx"
   },
   "outputs": [],
   "source": [
    "df=pd.read_csv(tickerSym+'.csv')"
   ]
  },
  {
   "cell_type": "code",
   "execution_count": 20,
   "metadata": {
    "colab": {
     "base_uri": "https://localhost:8080/",
     "height": 206
    },
    "executionInfo": {
     "elapsed": 16,
     "status": "ok",
     "timestamp": 1672061356498,
     "user": {
      "displayName": "Prajwal D.",
      "userId": "14447594046047781519"
     },
     "user_tz": -345
    },
    "id": "GB-3HQodb2Gr",
    "outputId": "492fabe7-1a3c-4d7a-8b99-1785d00277ac"
   },
   "outputs": [
    {
     "data": {
      "text/html": [
       "<div>\n",
       "<style scoped>\n",
       "    .dataframe tbody tr th:only-of-type {\n",
       "        vertical-align: middle;\n",
       "    }\n",
       "\n",
       "    .dataframe tbody tr th {\n",
       "        vertical-align: top;\n",
       "    }\n",
       "\n",
       "    .dataframe thead th {\n",
       "        text-align: right;\n",
       "    }\n",
       "</style>\n",
       "<table border=\"1\" class=\"dataframe\">\n",
       "  <thead>\n",
       "    <tr style=\"text-align: right;\">\n",
       "      <th></th>\n",
       "      <th>symbol</th>\n",
       "      <th>date</th>\n",
       "      <th>close</th>\n",
       "      <th>high</th>\n",
       "      <th>low</th>\n",
       "      <th>open</th>\n",
       "      <th>volume</th>\n",
       "      <th>adjClose</th>\n",
       "      <th>adjHigh</th>\n",
       "      <th>adjLow</th>\n",
       "      <th>adjOpen</th>\n",
       "      <th>adjVolume</th>\n",
       "      <th>divCash</th>\n",
       "      <th>splitFactor</th>\n",
       "    </tr>\n",
       "  </thead>\n",
       "  <tbody>\n",
       "    <tr>\n",
       "      <th>1252</th>\n",
       "      <td>TSLA</td>\n",
       "      <td>2022-12-19 00:00:00+00:00</td>\n",
       "      <td>149.87</td>\n",
       "      <td>155.2500</td>\n",
       "      <td>145.82</td>\n",
       "      <td>154.000</td>\n",
       "      <td>139390634</td>\n",
       "      <td>149.87</td>\n",
       "      <td>155.2500</td>\n",
       "      <td>145.82</td>\n",
       "      <td>154.000</td>\n",
       "      <td>139390634</td>\n",
       "      <td>0.0</td>\n",
       "      <td>1.0</td>\n",
       "    </tr>\n",
       "    <tr>\n",
       "      <th>1253</th>\n",
       "      <td>TSLA</td>\n",
       "      <td>2022-12-20 00:00:00+00:00</td>\n",
       "      <td>137.80</td>\n",
       "      <td>148.4700</td>\n",
       "      <td>137.66</td>\n",
       "      <td>146.050</td>\n",
       "      <td>159563267</td>\n",
       "      <td>137.80</td>\n",
       "      <td>148.4700</td>\n",
       "      <td>137.66</td>\n",
       "      <td>146.050</td>\n",
       "      <td>159563267</td>\n",
       "      <td>0.0</td>\n",
       "      <td>1.0</td>\n",
       "    </tr>\n",
       "    <tr>\n",
       "      <th>1254</th>\n",
       "      <td>TSLA</td>\n",
       "      <td>2022-12-21 00:00:00+00:00</td>\n",
       "      <td>137.57</td>\n",
       "      <td>141.2600</td>\n",
       "      <td>135.89</td>\n",
       "      <td>139.335</td>\n",
       "      <td>145417412</td>\n",
       "      <td>137.57</td>\n",
       "      <td>141.2600</td>\n",
       "      <td>135.89</td>\n",
       "      <td>139.335</td>\n",
       "      <td>145417412</td>\n",
       "      <td>0.0</td>\n",
       "      <td>1.0</td>\n",
       "    </tr>\n",
       "    <tr>\n",
       "      <th>1255</th>\n",
       "      <td>TSLA</td>\n",
       "      <td>2022-12-22 00:00:00+00:00</td>\n",
       "      <td>125.35</td>\n",
       "      <td>136.6300</td>\n",
       "      <td>122.26</td>\n",
       "      <td>136.000</td>\n",
       "      <td>210090250</td>\n",
       "      <td>125.35</td>\n",
       "      <td>136.6300</td>\n",
       "      <td>122.26</td>\n",
       "      <td>136.000</td>\n",
       "      <td>210090250</td>\n",
       "      <td>0.0</td>\n",
       "      <td>1.0</td>\n",
       "    </tr>\n",
       "    <tr>\n",
       "      <th>1256</th>\n",
       "      <td>TSLA</td>\n",
       "      <td>2022-12-23 00:00:00+00:00</td>\n",
       "      <td>123.15</td>\n",
       "      <td>128.6173</td>\n",
       "      <td>121.02</td>\n",
       "      <td>126.370</td>\n",
       "      <td>166989688</td>\n",
       "      <td>123.15</td>\n",
       "      <td>128.6173</td>\n",
       "      <td>121.02</td>\n",
       "      <td>126.370</td>\n",
       "      <td>166989688</td>\n",
       "      <td>0.0</td>\n",
       "      <td>1.0</td>\n",
       "    </tr>\n",
       "  </tbody>\n",
       "</table>\n",
       "</div>"
      ],
      "text/plain": [
       "     symbol                       date   close      high     low     open  \\\n",
       "1252   TSLA  2022-12-19 00:00:00+00:00  149.87  155.2500  145.82  154.000   \n",
       "1253   TSLA  2022-12-20 00:00:00+00:00  137.80  148.4700  137.66  146.050   \n",
       "1254   TSLA  2022-12-21 00:00:00+00:00  137.57  141.2600  135.89  139.335   \n",
       "1255   TSLA  2022-12-22 00:00:00+00:00  125.35  136.6300  122.26  136.000   \n",
       "1256   TSLA  2022-12-23 00:00:00+00:00  123.15  128.6173  121.02  126.370   \n",
       "\n",
       "         volume  adjClose   adjHigh  adjLow  adjOpen  adjVolume  divCash  \\\n",
       "1252  139390634    149.87  155.2500  145.82  154.000  139390634      0.0   \n",
       "1253  159563267    137.80  148.4700  137.66  146.050  159563267      0.0   \n",
       "1254  145417412    137.57  141.2600  135.89  139.335  145417412      0.0   \n",
       "1255  210090250    125.35  136.6300  122.26  136.000  210090250      0.0   \n",
       "1256  166989688    123.15  128.6173  121.02  126.370  166989688      0.0   \n",
       "\n",
       "      splitFactor  \n",
       "1252          1.0  \n",
       "1253          1.0  \n",
       "1254          1.0  \n",
       "1255          1.0  \n",
       "1256          1.0  "
      ]
     },
     "execution_count": 20,
     "metadata": {},
     "output_type": "execute_result"
    }
   ],
   "source": [
    "df.tail()"
   ]
  },
  {
   "cell_type": "code",
   "execution_count": 21,
   "metadata": {
    "executionInfo": {
     "elapsed": 15,
     "status": "ok",
     "timestamp": 1672061356498,
     "user": {
      "displayName": "Prajwal D.",
      "userId": "14447594046047781519"
     },
     "user_tz": -345
    },
    "id": "Z176MN35cRqO"
   },
   "outputs": [],
   "source": [
    "df1=df.reset_index()['close']"
   ]
  },
  {
   "cell_type": "code",
   "execution_count": 22,
   "metadata": {
    "colab": {
     "base_uri": "https://localhost:8080/"
    },
    "executionInfo": {
     "elapsed": 16,
     "status": "ok",
     "timestamp": 1672061356499,
     "user": {
      "displayName": "Prajwal D.",
      "userId": "14447594046047781519"
     },
     "user_tz": -345
    },
    "id": "1RD2gmM9ccvF",
    "outputId": "7ec70212-df34-4b06-e50f-5937fa250b99"
   },
   "outputs": [
    {
     "data": {
      "text/plain": [
       "0       315.36\n",
       "1       311.35\n",
       "2       320.53\n",
       "3       317.25\n",
       "4       314.62\n",
       "         ...  \n",
       "1252    149.87\n",
       "1253    137.80\n",
       "1254    137.57\n",
       "1255    125.35\n",
       "1256    123.15\n",
       "Name: close, Length: 1257, dtype: float64"
      ]
     },
     "execution_count": 22,
     "metadata": {},
     "output_type": "execute_result"
    }
   ],
   "source": [
    "df1"
   ]
  },
  {
   "cell_type": "code",
   "execution_count": 23,
   "metadata": {
    "colab": {
     "base_uri": "https://localhost:8080/",
     "height": 282
    },
    "executionInfo": {
     "elapsed": 14,
     "status": "ok",
     "timestamp": 1672061356499,
     "user": {
      "displayName": "Prajwal D.",
      "userId": "14447594046047781519"
     },
     "user_tz": -345
    },
    "id": "au_bA4GJcmz7",
    "outputId": "868698bd-1053-4a92-e570-3c8b78829cfc"
   },
   "outputs": [
    {
     "data": {
      "text/plain": [
       "[<matplotlib.lines.Line2D at 0x288f1d1a3b0>]"
      ]
     },
     "execution_count": 23,
     "metadata": {},
     "output_type": "execute_result"
    },
    {
     "data": {
      "image/png": "[encoded data removed]",
      "text/plain": [
       "<Figure size 640x480 with 1 Axes>"
      ]
     },
     "metadata": {},
     "output_type": "display_data"
    }
   ],
   "source": [
    "import matplotlib.pyplot as plt\n",
    "plt.plot(df1)"
   ]
  },
  {
   "cell_type": "code",
   "execution_count": 24,
   "metadata": {
    "executionInfo": {
     "elapsed": 11,
     "status": "ok",
     "timestamp": 1672061356499,
     "user": {
      "displayName": "Prajwal D.",
      "userId": "14447594046047781519"
     },
     "user_tz": -345
    },
    "id": "5xnS-KDRc24t"
   },
   "outputs": [],
   "source": [
    "### LSTM is sensitive to the scale of the data. so we apply MinMax scalar\n",
    "import numpy as np\n",
    "from sklearn.preprocessing import MinMaxScaler"
   ]
  },
  {
   "cell_type": "code",
   "execution_count": 25,
   "metadata": {
    "executionInfo": {
     "elapsed": 12,
     "status": "ok",
     "timestamp": 1672061356500,
     "user": {
      "displayName": "Prajwal D.",
      "userId": "14447594046047781519"
     },
     "user_tz": -345
    },
    "id": "DCOTmckZdWKl"
   },
   "outputs": [],
   "source": [
    "scaler=MinMaxScaler(feature_range=(0, 1))\n",
    "df1 = scaler.fit_transform(np.array(df1).reshape(-1, 1))"
   ]
  },
  {
   "cell_type": "code",
   "execution_count": 26,
   "metadata": {
    "colab": {
     "base_uri": "https://localhost:8080/"
    },
    "executionInfo": {
     "elapsed": 12,
     "status": "ok",
     "timestamp": 1672061356500,
     "user": {
      "displayName": "Prajwal D.",
      "userId": "14447594046047781519"
     },
     "user_tz": -345
    },
    "id": "Du7EHBlcd_mO",
    "outputId": "13986597-5985-42b3-b9c5-7c432c36da05"
   },
   "outputs": [
    {
     "data": {
      "text/plain": [
       "(MinMaxScaler(),\n",
       " array([[0.09085366],\n",
       "        [0.08895822],\n",
       "        [0.09329741],\n",
       "        ...,\n",
       "        [0.00681603],\n",
       "        [0.00103989],\n",
       "        [0.        ]]))"
      ]
     },
     "execution_count": 26,
     "metadata": {},
     "output_type": "execute_result"
    }
   ],
   "source": [
    "scaler, df1"
   ]
  },
  {
   "cell_type": "code",
   "execution_count": 55,
   "metadata": {
    "executionInfo": {
     "elapsed": 523,
     "status": "ok",
     "timestamp": 1672061357013,
     "user": {
      "displayName": "Prajwal D.",
      "userId": "14447594046047781519"
     },
     "user_tz": -345
    },
    "id": "fOpk9bJQfClc"
   },
   "outputs": [
    {
     "data": {
      "text/plain": [
       "(440, 1)"
      ]
     },
     "execution_count": 55,
     "metadata": {},
     "output_type": "execute_result"
    }
   ],
   "source": [
    "### Some of the ways to train and test data are: Cross Validation, Random Seed. But these will work great only on linear regression or classification problems\n",
    "### Whenever dealing with time series data (here stocks data) we should divide the data i.e. training set and testing set of data\n",
    "### Split the dataset to train and test\n",
    "training_size=int(len(df1)*0.65)\n",
    "test_size=len(df1)-training_size\n",
    "train_data, test_data = df1[0:training_size, :],df1[training_size:len(df1),:1]\n",
    "df1[training_size:len(df1)].shape"
   ]
  },
  {
   "cell_type": "code",
   "execution_count": 56,
   "metadata": {
    "executionInfo": {
     "elapsed": 525,
     "status": "ok",
     "timestamp": 1672061357015,
     "user": {
      "displayName": "Prajwal D.",
      "userId": "14447594046047781519"
     },
     "user_tz": -345
    },
    "id": "8VM9erQciCGN"
   },
   "outputs": [],
   "source": [
    "import numpy as np\n",
    "### Convert an array of values into a dataset matrix\n",
    "def create_dataset(dataset, time_step=1):\n",
    "  dataX, dataY = [], []\n",
    "  for i in range(len(dataset)-time_step-1):\n",
    "    a = dataset[i:(i+time_step), 0] # 0-99:o/p dataX, 1-o/p:o/p2 dataY\n",
    "    dataX.append(a)\n",
    "    dataY.append(dataset[i+time_step, 0])\n",
    "  return np.array(dataX), np.array(dataY)"
   ]
  },
  {
   "cell_type": "code",
   "execution_count": 57,
   "metadata": {
    "executionInfo": {
     "elapsed": 13,
     "status": "ok",
     "timestamp": 1672061357015,
     "user": {
      "displayName": "Prajwal D.",
      "userId": "14447594046047781519"
     },
     "user_tz": -345
    },
    "id": "S-NDH8_Wp6qp"
   },
   "outputs": [],
   "source": [
    "# Reshape into X=t, t+1, t+2, t+3 and Y=t+4\n",
    "time_step=100\n",
    "X_train, Y_train = create_dataset(train_data, time_step)\n",
    "X_test, Y_test = create_dataset(test_data, time_step)"
   ]
  },
  {
   "cell_type": "code",
   "execution_count": 67,
   "metadata": {},
   "outputs": [
    {
     "data": {
      "text/plain": [
       "716"
      ]
     },
     "execution_count": 67,
     "metadata": {},
     "output_type": "execute_result"
    }
   ],
   "source": [
    "Y_train.shape[0]"
   ]
  },
  {
   "cell_type": "code",
   "execution_count": 58,
   "metadata": {
    "executionInfo": {
     "elapsed": 13,
     "status": "ok",
     "timestamp": 1672061357016,
     "user": {
      "displayName": "Prajwal D.",
      "userId": "14447594046047781519"
     },
     "user_tz": -345
    },
    "id": "q_UYsWnVqUSL"
   },
   "outputs": [],
   "source": [
    "# Reshape input to be [samples, time_steps, features] which is required to provide input to LSTM\n",
    "X_train=X_train.reshape(X_train.shape[0], X_train.shape[1], 1)\n",
    "X_test=X_test.reshape(X_test.shape[0], X_test.shape[1], 1)"
   ]
  },
  {
   "cell_type": "code",
   "execution_count": 59,
   "metadata": {
    "colab": {
     "base_uri": "https://localhost:8080/"
    },
    "executionInfo": {
     "elapsed": 13,
     "status": "ok",
     "timestamp": 1672061357016,
     "user": {
      "displayName": "Prajwal D.",
      "userId": "14447594046047781519"
     },
     "user_tz": -345
    },
    "id": "HKAu77WWYWHa",
    "outputId": "ab53f41d-f529-49d4-d4f0-6459c79e77f6"
   },
   "outputs": [
    {
     "data": {
      "text/plain": [
       "array([[[0.09085366],\n",
       "        [0.08895822],\n",
       "        [0.09329741],\n",
       "        ...,\n",
       "        [0.0726366 ],\n",
       "        [0.07626205],\n",
       "        [0.07178106]],\n",
       "\n",
       "       [[0.08895822],\n",
       "        [0.09329741],\n",
       "        [0.09174702],\n",
       "        ...,\n",
       "        [0.07626205],\n",
       "        [0.07178106],\n",
       "        [0.07370013]],\n",
       "\n",
       "       [[0.09329741],\n",
       "        [0.09174702],\n",
       "        [0.09050388],\n",
       "        ...,\n",
       "        [0.07178106],\n",
       "        [0.07370013],\n",
       "        [0.07312346]],\n",
       "\n",
       "       ...,\n",
       "\n",
       "       [[0.13370675],\n",
       "        [0.13598034],\n",
       "        [0.12520798],\n",
       "        ...,\n",
       "        [0.25133296],\n",
       "        [0.25848459],\n",
       "        [0.25477879]],\n",
       "\n",
       "       [[0.13598034],\n",
       "        [0.12520798],\n",
       "        [0.13110229],\n",
       "        ...,\n",
       "        [0.25848459],\n",
       "        [0.25477879],\n",
       "        [0.23970505]],\n",
       "\n",
       "       [[0.12520798],\n",
       "        [0.13110229],\n",
       "        [0.14215825],\n",
       "        ...,\n",
       "        [0.25477879],\n",
       "        [0.23970505],\n",
       "        [0.24448856]]])"
      ]
     },
     "execution_count": 59,
     "metadata": {},
     "output_type": "execute_result"
    }
   ],
   "source": [
    "X_train"
   ]
  },
  {
   "cell_type": "code",
   "execution_count": 32,
   "metadata": {
    "executionInfo": {
     "elapsed": 11,
     "status": "ok",
     "timestamp": 1672061357017,
     "user": {
      "displayName": "Prajwal D.",
      "userId": "14447594046047781519"
     },
     "user_tz": -345
    },
    "id": "9Ffi4F1rsbCV"
   },
   "outputs": [],
   "source": [
    "# Create the Stacked LSTM Model\n",
    "from tensorflow.keras.models import Sequential\n",
    "from tensorflow.keras.layers import Dense\n",
    "from tensorflow.keras.layers import LSTM"
   ]
  },
  {
   "cell_type": "code",
   "execution_count": 33,
   "metadata": {
    "executionInfo": {
     "elapsed": 445,
     "status": "ok",
     "timestamp": 1672061357451,
     "user": {
      "displayName": "Prajwal D.",
      "userId": "14447594046047781519"
     },
     "user_tz": -345
    },
    "id": "dB7I2p2ctCuh"
   },
   "outputs": [],
   "source": [
    "model = Sequential()\n",
    "hidden_layer=50\n",
    "model.add(LSTM(hidden_layer, return_sequences=True, input_shape=(X_train.shape[1], X_train.shape[2])))\n",
    "model.add(LSTM(hidden_layer, return_sequences=True))\n",
    "model.add(LSTM(hidden_layer))\n",
    "model.add(Dense(1))\n",
    "model.compile(loss='mean_squared_error', optimizer='adam')"
   ]
  },
  {
   "cell_type": "code",
   "execution_count": 34,
   "metadata": {
    "colab": {
     "base_uri": "https://localhost:8080/"
    },
    "executionInfo": {
     "elapsed": 7,
     "status": "ok",
     "timestamp": 1672061357452,
     "user": {
      "displayName": "Prajwal D.",
      "userId": "14447594046047781519"
     },
     "user_tz": -345
    },
    "id": "iHrSD-PiuQxV",
    "outputId": "328c277b-e9a9-43b3-8fb8-db21aa7457ad"
   },
   "outputs": [
    {
     "name": "stdout",
     "output_type": "stream",
     "text": [
      "Model: \"sequential\"\n",
      "_________________________________________________________________\n",
      " Layer (type)                Output Shape              Param #   \n",
      "=================================================================\n",
      " lstm (LSTM)                 (None, 100, 50)           10400     \n",
      "                                                                 \n",
      " lstm_1 (LSTM)               (None, 100, 50)           20200     \n",
      "                                                                 \n",
      " lstm_2 (LSTM)               (None, 50)                20200     \n",
      "                                                                 \n",
      " dense (Dense)               (None, 1)                 51        \n",
      "                                                                 \n",
      "=================================================================\n",
      "Total params: 50,851\n",
      "Trainable params: 50,851\n",
      "Non-trainable params: 0\n",
      "_________________________________________________________________\n"
     ]
    }
   ],
   "source": [
    "model.summary()"
   ]
  },
  {
   "cell_type": "code",
   "execution_count": 35,
   "metadata": {
    "colab": {
     "base_uri": "https://localhost:8080/"
    },
    "id": "FNGqiHGOvHF7",
    "outputId": "f9368cdd-ac4f-40af-9b59-ceb2e66f29dc"
   },
   "outputs": [
    {
     "name": "stdout",
     "output_type": "stream",
     "text": [
      "Epoch 1/20\n",
      "12/12 [==============================] - 8s 257ms/step - loss: 0.0193 - val_loss: 0.0104\n",
      "Epoch 2/20\n",
      "12/12 [==============================] - 2s 154ms/step - loss: 0.0087 - val_loss: 0.0062\n",
      "Epoch 3/20\n",
      "12/12 [==============================] - 2s 152ms/step - loss: 0.0075 - val_loss: 0.0045\n",
      "Epoch 4/20\n",
      "12/12 [==============================] - 2s 149ms/step - loss: 0.0069 - val_loss: 0.0034\n",
      "Epoch 5/20\n",
      "12/12 [==============================] - 2s 148ms/step - loss: 0.0064 - val_loss: 0.0041\n",
      "Epoch 6/20\n",
      "12/12 [==============================] - 2s 148ms/step - loss: 0.0060 - val_loss: 0.0028\n",
      "Epoch 7/20\n",
      "12/12 [==============================] - 2s 146ms/step - loss: 0.0059 - val_loss: 0.0025\n",
      "Epoch 8/20\n",
      "12/12 [==============================] - 2s 148ms/step - loss: 0.0051 - val_loss: 0.0028\n",
      "Epoch 9/20\n",
      "12/12 [==============================] - 2s 148ms/step - loss: 0.0052 - val_loss: 0.0027\n",
      "Epoch 10/20\n",
      "12/12 [==============================] - 2s 169ms/step - loss: 0.0047 - val_loss: 0.0024\n",
      "Epoch 11/20\n",
      "12/12 [==============================] - 2s 150ms/step - loss: 0.0042 - val_loss: 0.0020\n",
      "Epoch 12/20\n",
      "12/12 [==============================] - 2s 147ms/step - loss: 0.0037 - val_loss: 0.0025\n",
      "Epoch 13/20\n",
      "12/12 [==============================] - 2s 146ms/step - loss: 0.0032 - val_loss: 0.0025\n",
      "Epoch 14/20\n",
      "12/12 [==============================] - 2s 148ms/step - loss: 0.0027 - val_loss: 0.0029\n",
      "Epoch 15/20\n",
      "12/12 [==============================] - 2s 142ms/step - loss: 0.0025 - val_loss: 0.0025\n",
      "Epoch 16/20\n",
      "12/12 [==============================] - 2s 147ms/step - loss: 0.0022 - val_loss: 0.0017\n",
      "Epoch 17/20\n",
      "12/12 [==============================] - 2s 146ms/step - loss: 0.0026 - val_loss: 0.0017\n",
      "Epoch 18/20\n",
      "12/12 [==============================] - 2s 172ms/step - loss: 0.0023 - val_loss: 0.0016\n",
      "Epoch 19/20\n",
      "12/12 [==============================] - 2s 146ms/step - loss: 0.0019 - val_loss: 0.0015\n",
      "Epoch 20/20\n",
      "12/12 [==============================] - 2s 148ms/step - loss: 0.0016 - val_loss: 0.0015\n"
     ]
    },
    {
     "data": {
      "text/plain": [
       "<keras.callbacks.History at 0x288f9c8df00>"
      ]
     },
     "execution_count": 35,
     "metadata": {},
     "output_type": "execute_result"
    }
   ],
   "source": [
    "# Fit the data into the model\n",
    "model.fit(X_train, Y_train, validation_data=(X_test, Y_test), epochs=20, batch_size=64, verbose=1)"
   ]
  },
  {
   "cell_type": "code",
   "execution_count": 36,
   "metadata": {
    "id": "5sF0FsQbvvGW"
   },
   "outputs": [
    {
     "name": "stdout",
     "output_type": "stream",
     "text": [
      "23/23 [==============================] - 2s 29ms/step\n",
      "11/11 [==============================] - 0s 33ms/step\n"
     ]
    }
   ],
   "source": [
    "# Predicting and checking performance metrics\n",
    "train_predict=model.predict(X_train)\n",
    "test_predict=model.predict(X_test)"
   ]
  },
  {
   "cell_type": "code",
   "execution_count": 37,
   "metadata": {
    "id": "X-Q9nZw9w7eY"
   },
   "outputs": [],
   "source": [
    "# Transforming to original form\n",
    "train_predict=scaler.inverse_transform(train_predict)\n",
    "test_predict=scaler.inverse_transform(test_predict)"
   ]
  },
  {
   "cell_type": "code",
   "execution_count": 38,
   "metadata": {
    "id": "XEmfTt_rxcFK"
   },
   "outputs": [
    {
     "data": {
      "text/plain": [
       "585.353012008914"
      ]
     },
     "execution_count": 38,
     "metadata": {},
     "output_type": "execute_result"
    }
   ],
   "source": [
    "# Calculating the RMSE performance metrics\n",
    "import math\n",
    "from sklearn.metrics import mean_squared_error\n",
    "math.sqrt(mean_squared_error(Y_train, train_predict))"
   ]
  },
  {
   "cell_type": "code",
   "execution_count": 39,
   "metadata": {
    "id": "HLfeBySYyGit"
   },
   "outputs": [
    {
     "data": {
      "text/plain": [
       "793.6568913133292"
      ]
     },
     "execution_count": 39,
     "metadata": {},
     "output_type": "execute_result"
    }
   ],
   "source": [
    "# Test Data RMSE\n",
    "math.sqrt(mean_squared_error(Y_test, test_predict))"
   ]
  },
  {
   "cell_type": "code",
   "execution_count": 40,
   "metadata": {
    "id": "TINUGnB6yRWg"
   },
   "outputs": [
    {
     "data": {
      "image/png": "[encoded data removed]",
      "text/plain": [
       "<Figure size 640x480 with 1 Axes>"
      ]
     },
     "metadata": {},
     "output_type": "display_data"
    }
   ],
   "source": [
    "# Plotting\n",
    "# Shift trained predictions to plot\n",
    "look_back=100\n",
    "trainPredictPlot=np.empty_like(df1)\n",
    "trainPredictPlot[:,:] = np.nan\n",
    "trainPredictPlot[look_back:len(train_predict)+look_back, :] = train_predict\n",
    "# Shift test predictions to plot\n",
    "testPredictPlot=np.empty_like(df1)\n",
    "testPredictPlot[:,:] = np.nan\n",
    "testPredictPlot[len(train_predict)+(look_back*2)+1:len(df1)-1, :] = test_predict\n",
    "# Plot the baseline and predictions\n",
    "plt.plot(scaler.inverse_transform(df1))\n",
    "plt.plot(trainPredictPlot)\n",
    "plt.plot(testPredictPlot)\n",
    "plt.show()"
   ]
  },
  {
   "cell_type": "code",
   "execution_count": 41,
   "metadata": {
    "id": "tJ__L7fo0uIv"
   },
   "outputs": [
    {
     "data": {
      "text/plain": [
       "(1, 100)"
      ]
     },
     "execution_count": 41,
     "metadata": {},
     "output_type": "execute_result"
    }
   ],
   "source": [
    "x_input=test_data[(len(test_data)-100):].reshape(1, -1)\n",
    "x_input.shape"
   ]
  },
  {
   "cell_type": "code",
   "execution_count": 42,
   "metadata": {
    "id": "D-zg3GQj3Ivu"
   },
   "outputs": [],
   "source": [
    "temp_input=list(x_input)\n",
    "temp_input=temp_input[0].tolist()"
   ]
  },
  {
   "cell_type": "code",
   "execution_count": 68,
   "metadata": {
    "id": "sr11gVIG3cHj"
   },
   "outputs": [
    {
     "name": "stdout",
     "output_type": "stream",
     "text": [
      "0 day input [ 0.08517678  0.08788051  0.0877198   0.08397145  0.07820004  0.07193231\n",
      "  0.07225373  0.0755294   0.07783135  0.06856684  0.06716771  0.05636699\n",
      "  0.05969465  0.05561543  0.05434865  0.0472301   0.04717811  0.0441246\n",
      "  0.04447438  0.04659198  0.03868406  0.04547173  0.04586878  0.04674324\n",
      "  0.0397665   0.04315088  0.04164303  0.0469205   0.04797221  0.04818491\n",
      "  0.0498062   0.04934298  0.04947533  0.04340613  0.04356211  0.03985631\n",
      "  0.03494517  0.03221308  0.02573265  0.03193893  0.0344205   0.03204765\n",
      "  0.03368784  0.03014275  0.0283702   0.02696162  0.02113821  0.02210248\n",
      "  0.02838438  0.02822367  0.02825203  0.02726413  0.03382019  0.03382019\n",
      "  0.03389582  0.02802987  0.02678673  0.02405464  0.02377103  0.02642276\n",
      "  0.02111458  0.01786727  0.01590565  0.01631688  0.01280015  0.01262999\n",
      "  0.00692475  0.00681603  0.00103989  0.         -0.00149498 -0.00402353\n",
      " -0.00655138 -0.00905968 -0.01154395 -0.01400697 -0.01645409 -0.01889063\n",
      " -0.02132076 -0.02374723 -0.02617152 -0.02859423 -0.03101532 -0.03343445\n",
      " -0.03585109 -0.03826467 -0.04067456 -0.04308017 -0.04548089 -0.04787614\n",
      " -0.05026532 -0.05264786 -0.05502314 -0.05739057 -0.05974961 -0.06209965\n",
      " -0.06444016 -0.06677057 -0.06909038 -0.07139902]\n",
      "0 day output [[-0.07369599]]\n",
      "1 day input [ 0.08788051  0.0877198   0.08397145  0.07820004  0.07193231  0.07225373\n",
      "  0.0755294   0.07783135  0.06856684  0.06716771  0.05636699  0.05969465\n",
      "  0.05561543  0.05434865  0.0472301   0.04717811  0.0441246   0.04447438\n",
      "  0.04659198  0.03868406  0.04547173  0.04586878  0.04674324  0.0397665\n",
      "  0.04315088  0.04164303  0.0469205   0.04797221  0.04818491  0.0498062\n",
      "  0.04934298  0.04947533  0.04340613  0.04356211  0.03985631  0.03494517\n",
      "  0.03221308  0.02573265  0.03193893  0.0344205   0.03204765  0.03368784\n",
      "  0.03014275  0.0283702   0.02696162  0.02113821  0.02210248  0.02838438\n",
      "  0.02822367  0.02825203  0.02726413  0.03382019  0.03382019  0.03389582\n",
      "  0.02802987  0.02678673  0.02405464  0.02377103  0.02642276  0.02111458\n",
      "  0.01786727  0.01590565  0.01631688  0.01280015  0.01262999  0.00692475\n",
      "  0.00681603  0.00103989  0.         -0.00149498 -0.00402353 -0.00655138\n",
      " -0.00905968 -0.01154395 -0.01400697 -0.01645409 -0.01889063 -0.02132076\n",
      " -0.02374723 -0.02617152 -0.02859423 -0.03101532 -0.03343445 -0.03585109\n",
      " -0.03826467 -0.04067456 -0.04308017 -0.04548089 -0.04787614 -0.05026532\n",
      " -0.05264786 -0.05502314 -0.05739057 -0.05974961 -0.06209965 -0.06444016\n",
      " -0.06677057 -0.06909038 -0.07139902 -0.07369599]\n",
      "1 day output [[-0.07598081]]\n",
      "2 day input [ 0.0877198   0.08397145  0.07820004  0.07193231  0.07225373  0.0755294\n",
      "  0.07783135  0.06856684  0.06716771  0.05636699  0.05969465  0.05561543\n",
      "  0.05434865  0.0472301   0.04717811  0.0441246   0.04447438  0.04659198\n",
      "  0.03868406  0.04547173  0.04586878  0.04674324  0.0397665   0.04315088\n",
      "  0.04164303  0.0469205   0.04797221  0.04818491  0.0498062   0.04934298\n",
      "  0.04947533  0.04340613  0.04356211  0.03985631  0.03494517  0.03221308\n",
      "  0.02573265  0.03193893  0.0344205   0.03204765  0.03368784  0.03014275\n",
      "  0.0283702   0.02696162  0.02113821  0.02210248  0.02838438  0.02822367\n",
      "  0.02825203  0.02726413  0.03382019  0.03382019  0.03389582  0.02802987\n",
      "  0.02678673  0.02405464  0.02377103  0.02642276  0.02111458  0.01786727\n",
      "  0.01590565  0.01631688  0.01280015  0.01262999  0.00692475  0.00681603\n",
      "  0.00103989  0.         -0.00149498 -0.00402353 -0.00655138 -0.00905968\n",
      " -0.01154395 -0.01400697 -0.01645409 -0.01889063 -0.02132076 -0.02374723\n",
      " -0.02617152 -0.02859423 -0.03101532 -0.03343445 -0.03585109 -0.03826467\n",
      " -0.04067456 -0.04308017 -0.04548089 -0.04787614 -0.05026532 -0.05264786\n",
      " -0.05502314 -0.05739057 -0.05974961 -0.06209965 -0.06444016 -0.06677057\n",
      " -0.06909038 -0.07139902 -0.07369599 -0.07598081]\n",
      "2 day output [[-0.07825303]]\n",
      "3 day input [ 0.08397145  0.07820004  0.07193231  0.07225373  0.0755294   0.07783135\n",
      "  0.06856684  0.06716771  0.05636699  0.05969465  0.05561543  0.05434865\n",
      "  0.0472301   0.04717811  0.0441246   0.04447438  0.04659198  0.03868406\n",
      "  0.04547173  0.04586878  0.04674324  0.0397665   0.04315088  0.04164303\n",
      "  0.0469205   0.04797221  0.04818491  0.0498062   0.04934298  0.04947533\n",
      "  0.04340613  0.04356211  0.03985631  0.03494517  0.03221308  0.02573265\n",
      "  0.03193893  0.0344205   0.03204765  0.03368784  0.03014275  0.0283702\n",
      "  0.02696162  0.02113821  0.02210248  0.02838438  0.02822367  0.02825203\n",
      "  0.02726413  0.03382019  0.03382019  0.03389582  0.02802987  0.02678673\n",
      "  0.02405464  0.02377103  0.02642276  0.02111458  0.01786727  0.01590565\n",
      "  0.01631688  0.01280015  0.01262999  0.00692475  0.00681603  0.00103989\n",
      "  0.         -0.00149498 -0.00402353 -0.00655138 -0.00905968 -0.01154395\n",
      " -0.01400697 -0.01645409 -0.01889063 -0.02132076 -0.02374723 -0.02617152\n",
      " -0.02859423 -0.03101532 -0.03343445 -0.03585109 -0.03826467 -0.04067456\n",
      " -0.04308017 -0.04548089 -0.04787614 -0.05026532 -0.05264786 -0.05502314\n",
      " -0.05739057 -0.05974961 -0.06209965 -0.06444016 -0.06677057 -0.06909038\n",
      " -0.07139902 -0.07369599 -0.07598081 -0.07825303]\n",
      "3 day output [[-0.08051212]]\n",
      "4 day input [ 0.07820004  0.07193231  0.07225373  0.0755294   0.07783135  0.06856684\n",
      "  0.06716771  0.05636699  0.05969465  0.05561543  0.05434865  0.0472301\n",
      "  0.04717811  0.0441246   0.04447438  0.04659198  0.03868406  0.04547173\n",
      "  0.04586878  0.04674324  0.0397665   0.04315088  0.04164303  0.0469205\n",
      "  0.04797221  0.04818491  0.0498062   0.04934298  0.04947533  0.04340613\n",
      "  0.04356211  0.03985631  0.03494517  0.03221308  0.02573265  0.03193893\n",
      "  0.0344205   0.03204765  0.03368784  0.03014275  0.0283702   0.02696162\n",
      "  0.02113821  0.02210248  0.02838438  0.02822367  0.02825203  0.02726413\n",
      "  0.03382019  0.03382019  0.03389582  0.02802987  0.02678673  0.02405464\n",
      "  0.02377103  0.02642276  0.02111458  0.01786727  0.01590565  0.01631688\n",
      "  0.01280015  0.01262999  0.00692475  0.00681603  0.00103989  0.\n",
      " -0.00149498 -0.00402353 -0.00655138 -0.00905968 -0.01154395 -0.01400697\n",
      " -0.01645409 -0.01889063 -0.02132076 -0.02374723 -0.02617152 -0.02859423\n",
      " -0.03101532 -0.03343445 -0.03585109 -0.03826467 -0.04067456 -0.04308017\n",
      " -0.04548089 -0.04787614 -0.05026532 -0.05264786 -0.05502314 -0.05739057\n",
      " -0.05974961 -0.06209965 -0.06444016 -0.06677057 -0.06909038 -0.07139902\n",
      " -0.07369599 -0.07598081 -0.07825303 -0.08051212]\n",
      "4 day output [[-0.08275767]]\n",
      "5 day input [ 0.07193231  0.07225373  0.0755294   0.07783135  0.06856684  0.06716771\n",
      "  0.05636699  0.05969465  0.05561543  0.05434865  0.0472301   0.04717811\n",
      "  0.0441246   0.04447438  0.04659198  0.03868406  0.04547173  0.04586878\n",
      "  0.04674324  0.0397665   0.04315088  0.04164303  0.0469205   0.04797221\n",
      "  0.04818491  0.0498062   0.04934298  0.04947533  0.04340613  0.04356211\n",
      "  0.03985631  0.03494517  0.03221308  0.02573265  0.03193893  0.0344205\n",
      "  0.03204765  0.03368784  0.03014275  0.0283702   0.02696162  0.02113821\n",
      "  0.02210248  0.02838438  0.02822367  0.02825203  0.02726413  0.03382019\n",
      "  0.03382019  0.03389582  0.02802987  0.02678673  0.02405464  0.02377103\n",
      "  0.02642276  0.02111458  0.01786727  0.01590565  0.01631688  0.01280015\n",
      "  0.01262999  0.00692475  0.00681603  0.00103989  0.         -0.00149498\n",
      " -0.00402353 -0.00655138 -0.00905968 -0.01154395 -0.01400697 -0.01645409\n",
      " -0.01889063 -0.02132076 -0.02374723 -0.02617152 -0.02859423 -0.03101532\n",
      " -0.03343445 -0.03585109 -0.03826467 -0.04067456 -0.04308017 -0.04548089\n",
      " -0.04787614 -0.05026532 -0.05264786 -0.05502314 -0.05739057 -0.05974961\n",
      " -0.06209965 -0.06444016 -0.06677057 -0.06909038 -0.07139902 -0.07369599\n",
      " -0.07598081 -0.07825303 -0.08051212 -0.08275767]\n",
      "5 day output [[-0.08498922]]\n",
      "6 day input [ 0.07225373  0.0755294   0.07783135  0.06856684  0.06716771  0.05636699\n",
      "  0.05969465  0.05561543  0.05434865  0.0472301   0.04717811  0.0441246\n",
      "  0.04447438  0.04659198  0.03868406  0.04547173  0.04586878  0.04674324\n",
      "  0.0397665   0.04315088  0.04164303  0.0469205   0.04797221  0.04818491\n",
      "  0.0498062   0.04934298  0.04947533  0.04340613  0.04356211  0.03985631\n",
      "  0.03494517  0.03221308  0.02573265  0.03193893  0.0344205   0.03204765\n",
      "  0.03368784  0.03014275  0.0283702   0.02696162  0.02113821  0.02210248\n",
      "  0.02838438  0.02822367  0.02825203  0.02726413  0.03382019  0.03382019\n",
      "  0.03389582  0.02802987  0.02678673  0.02405464  0.02377103  0.02642276\n",
      "  0.02111458  0.01786727  0.01590565  0.01631688  0.01280015  0.01262999\n",
      "  0.00692475  0.00681603  0.00103989  0.         -0.00149498 -0.00402353\n",
      " -0.00655138 -0.00905968 -0.01154395 -0.01400697 -0.01645409 -0.01889063\n",
      " -0.02132076 -0.02374723 -0.02617152 -0.02859423 -0.03101532 -0.03343445\n",
      " -0.03585109 -0.03826467 -0.04067456 -0.04308017 -0.04548089 -0.04787614\n",
      " -0.05026532 -0.05264786 -0.05502314 -0.05739057 -0.05974961 -0.06209965\n",
      " -0.06444016 -0.06677057 -0.06909038 -0.07139902 -0.07369599 -0.07598081\n",
      " -0.07825303 -0.08051212 -0.08275767 -0.08498922]\n"
     ]
    },
    {
     "name": "stdout",
     "output_type": "stream",
     "text": [
      "6 day output [[-0.08720635]]\n",
      "7 day input [ 0.0755294   0.07783135  0.06856684  0.06716771  0.05636699  0.05969465\n",
      "  0.05561543  0.05434865  0.0472301   0.04717811  0.0441246   0.04447438\n",
      "  0.04659198  0.03868406  0.04547173  0.04586878  0.04674324  0.0397665\n",
      "  0.04315088  0.04164303  0.0469205   0.04797221  0.04818491  0.0498062\n",
      "  0.04934298  0.04947533  0.04340613  0.04356211  0.03985631  0.03494517\n",
      "  0.03221308  0.02573265  0.03193893  0.0344205   0.03204765  0.03368784\n",
      "  0.03014275  0.0283702   0.02696162  0.02113821  0.02210248  0.02838438\n",
      "  0.02822367  0.02825203  0.02726413  0.03382019  0.03382019  0.03389582\n",
      "  0.02802987  0.02678673  0.02405464  0.02377103  0.02642276  0.02111458\n",
      "  0.01786727  0.01590565  0.01631688  0.01280015  0.01262999  0.00692475\n",
      "  0.00681603  0.00103989  0.         -0.00149498 -0.00402353 -0.00655138\n",
      " -0.00905968 -0.01154395 -0.01400697 -0.01645409 -0.01889063 -0.02132076\n",
      " -0.02374723 -0.02617152 -0.02859423 -0.03101532 -0.03343445 -0.03585109\n",
      " -0.03826467 -0.04067456 -0.04308017 -0.04548089 -0.04787614 -0.05026532\n",
      " -0.05264786 -0.05502314 -0.05739057 -0.05974961 -0.06209965 -0.06444016\n",
      " -0.06677057 -0.06909038 -0.07139902 -0.07369599 -0.07598081 -0.07825303\n",
      " -0.08051212 -0.08275767 -0.08498922 -0.08720635]\n",
      "7 day output [[-0.08940862]]\n",
      "8 day input [ 0.07783135  0.06856684  0.06716771  0.05636699  0.05969465  0.05561543\n",
      "  0.05434865  0.0472301   0.04717811  0.0441246   0.04447438  0.04659198\n",
      "  0.03868406  0.04547173  0.04586878  0.04674324  0.0397665   0.04315088\n",
      "  0.04164303  0.0469205   0.04797221  0.04818491  0.0498062   0.04934298\n",
      "  0.04947533  0.04340613  0.04356211  0.03985631  0.03494517  0.03221308\n",
      "  0.02573265  0.03193893  0.0344205   0.03204765  0.03368784  0.03014275\n",
      "  0.0283702   0.02696162  0.02113821  0.02210248  0.02838438  0.02822367\n",
      "  0.02825203  0.02726413  0.03382019  0.03382019  0.03389582  0.02802987\n",
      "  0.02678673  0.02405464  0.02377103  0.02642276  0.02111458  0.01786727\n",
      "  0.01590565  0.01631688  0.01280015  0.01262999  0.00692475  0.00681603\n",
      "  0.00103989  0.         -0.00149498 -0.00402353 -0.00655138 -0.00905968\n",
      " -0.01154395 -0.01400697 -0.01645409 -0.01889063 -0.02132076 -0.02374723\n",
      " -0.02617152 -0.02859423 -0.03101532 -0.03343445 -0.03585109 -0.03826467\n",
      " -0.04067456 -0.04308017 -0.04548089 -0.04787614 -0.05026532 -0.05264786\n",
      " -0.05502314 -0.05739057 -0.05974961 -0.06209965 -0.06444016 -0.06677057\n",
      " -0.06909038 -0.07139902 -0.07369599 -0.07598081 -0.07825303 -0.08051212\n",
      " -0.08275767 -0.08498922 -0.08720635 -0.08940862]\n",
      "8 day output [[-0.09159563]]\n",
      "9 day input [ 0.06856684  0.06716771  0.05636699  0.05969465  0.05561543  0.05434865\n",
      "  0.0472301   0.04717811  0.0441246   0.04447438  0.04659198  0.03868406\n",
      "  0.04547173  0.04586878  0.04674324  0.0397665   0.04315088  0.04164303\n",
      "  0.0469205   0.04797221  0.04818491  0.0498062   0.04934298  0.04947533\n",
      "  0.04340613  0.04356211  0.03985631  0.03494517  0.03221308  0.02573265\n",
      "  0.03193893  0.0344205   0.03204765  0.03368784  0.03014275  0.0283702\n",
      "  0.02696162  0.02113821  0.02210248  0.02838438  0.02822367  0.02825203\n",
      "  0.02726413  0.03382019  0.03382019  0.03389582  0.02802987  0.02678673\n",
      "  0.02405464  0.02377103  0.02642276  0.02111458  0.01786727  0.01590565\n",
      "  0.01631688  0.01280015  0.01262999  0.00692475  0.00681603  0.00103989\n",
      "  0.         -0.00149498 -0.00402353 -0.00655138 -0.00905968 -0.01154395\n",
      " -0.01400697 -0.01645409 -0.01889063 -0.02132076 -0.02374723 -0.02617152\n",
      " -0.02859423 -0.03101532 -0.03343445 -0.03585109 -0.03826467 -0.04067456\n",
      " -0.04308017 -0.04548089 -0.04787614 -0.05026532 -0.05264786 -0.05502314\n",
      " -0.05739057 -0.05974961 -0.06209965 -0.06444016 -0.06677057 -0.06909038\n",
      " -0.07139902 -0.07369599 -0.07598081 -0.07825303 -0.08051212 -0.08275767\n",
      " -0.08498922 -0.08720635 -0.08940862 -0.09159563]\n",
      "9 day output [[-0.09376702]]\n",
      "10 day input [ 0.06716771  0.05636699  0.05969465  0.05561543  0.05434865  0.0472301\n",
      "  0.04717811  0.0441246   0.04447438  0.04659198  0.03868406  0.04547173\n",
      "  0.04586878  0.04674324  0.0397665   0.04315088  0.04164303  0.0469205\n",
      "  0.04797221  0.04818491  0.0498062   0.04934298  0.04947533  0.04340613\n",
      "  0.04356211  0.03985631  0.03494517  0.03221308  0.02573265  0.03193893\n",
      "  0.0344205   0.03204765  0.03368784  0.03014275  0.0283702   0.02696162\n",
      "  0.02113821  0.02210248  0.02838438  0.02822367  0.02825203  0.02726413\n",
      "  0.03382019  0.03382019  0.03389582  0.02802987  0.02678673  0.02405464\n",
      "  0.02377103  0.02642276  0.02111458  0.01786727  0.01590565  0.01631688\n",
      "  0.01280015  0.01262999  0.00692475  0.00681603  0.00103989  0.\n",
      " -0.00149498 -0.00402353 -0.00655138 -0.00905968 -0.01154395 -0.01400697\n",
      " -0.01645409 -0.01889063 -0.02132076 -0.02374723 -0.02617152 -0.02859423\n",
      " -0.03101532 -0.03343445 -0.03585109 -0.03826467 -0.04067456 -0.04308017\n",
      " -0.04548089 -0.04787614 -0.05026532 -0.05264786 -0.05502314 -0.05739057\n",
      " -0.05974961 -0.06209965 -0.06444016 -0.06677057 -0.06909038 -0.07139902\n",
      " -0.07369599 -0.07598081 -0.07825303 -0.08051212 -0.08275767 -0.08498922\n",
      " -0.08720635 -0.08940862 -0.09159563 -0.09376702]\n",
      "10 day output [[-0.09592237]]\n",
      "11 day input [ 0.05636699  0.05969465  0.05561543  0.05434865  0.0472301   0.04717811\n",
      "  0.0441246   0.04447438  0.04659198  0.03868406  0.04547173  0.04586878\n",
      "  0.04674324  0.0397665   0.04315088  0.04164303  0.0469205   0.04797221\n",
      "  0.04818491  0.0498062   0.04934298  0.04947533  0.04340613  0.04356211\n",
      "  0.03985631  0.03494517  0.03221308  0.02573265  0.03193893  0.0344205\n",
      "  0.03204765  0.03368784  0.03014275  0.0283702   0.02696162  0.02113821\n",
      "  0.02210248  0.02838438  0.02822367  0.02825203  0.02726413  0.03382019\n",
      "  0.03382019  0.03389582  0.02802987  0.02678673  0.02405464  0.02377103\n",
      "  0.02642276  0.02111458  0.01786727  0.01590565  0.01631688  0.01280015\n",
      "  0.01262999  0.00692475  0.00681603  0.00103989  0.         -0.00149498\n",
      " -0.00402353 -0.00655138 -0.00905968 -0.01154395 -0.01400697 -0.01645409\n",
      " -0.01889063 -0.02132076 -0.02374723 -0.02617152 -0.02859423 -0.03101532\n",
      " -0.03343445 -0.03585109 -0.03826467 -0.04067456 -0.04308017 -0.04548089\n",
      " -0.04787614 -0.05026532 -0.05264786 -0.05502314 -0.05739057 -0.05974961\n",
      " -0.06209965 -0.06444016 -0.06677057 -0.06909038 -0.07139902 -0.07369599\n",
      " -0.07598081 -0.07825303 -0.08051212 -0.08275767 -0.08498922 -0.08720635\n",
      " -0.08940862 -0.09159563 -0.09376702 -0.09592237]\n",
      "11 day output [[-0.09806129]]\n",
      "12 day input [ 0.05969465  0.05561543  0.05434865  0.0472301   0.04717811  0.0441246\n",
      "  0.04447438  0.04659198  0.03868406  0.04547173  0.04586878  0.04674324\n",
      "  0.0397665   0.04315088  0.04164303  0.0469205   0.04797221  0.04818491\n",
      "  0.0498062   0.04934298  0.04947533  0.04340613  0.04356211  0.03985631\n",
      "  0.03494517  0.03221308  0.02573265  0.03193893  0.0344205   0.03204765\n",
      "  0.03368784  0.03014275  0.0283702   0.02696162  0.02113821  0.02210248\n",
      "  0.02838438  0.02822367  0.02825203  0.02726413  0.03382019  0.03382019\n",
      "  0.03389582  0.02802987  0.02678673  0.02405464  0.02377103  0.02642276\n",
      "  0.02111458  0.01786727  0.01590565  0.01631688  0.01280015  0.01262999\n",
      "  0.00692475  0.00681603  0.00103989  0.         -0.00149498 -0.00402353\n",
      " -0.00655138 -0.00905968 -0.01154395 -0.01400697 -0.01645409 -0.01889063\n",
      " -0.02132076 -0.02374723 -0.02617152 -0.02859423 -0.03101532 -0.03343445\n",
      " -0.03585109 -0.03826467 -0.04067456 -0.04308017 -0.04548089 -0.04787614\n",
      " -0.05026532 -0.05264786 -0.05502314 -0.05739057 -0.05974961 -0.06209965\n",
      " -0.06444016 -0.06677057 -0.06909038 -0.07139902 -0.07369599 -0.07598081\n",
      " -0.07825303 -0.08051212 -0.08275767 -0.08498922 -0.08720635 -0.08940862\n",
      " -0.09159563 -0.09376702 -0.09592237 -0.09806129]\n",
      "12 day output [[-0.10018347]]\n",
      "13 day input [ 0.05561543  0.05434865  0.0472301   0.04717811  0.0441246   0.04447438\n",
      "  0.04659198  0.03868406  0.04547173  0.04586878  0.04674324  0.0397665\n",
      "  0.04315088  0.04164303  0.0469205   0.04797221  0.04818491  0.0498062\n",
      "  0.04934298  0.04947533  0.04340613  0.04356211  0.03985631  0.03494517\n",
      "  0.03221308  0.02573265  0.03193893  0.0344205   0.03204765  0.03368784\n",
      "  0.03014275  0.0283702   0.02696162  0.02113821  0.02210248  0.02838438\n",
      "  0.02822367  0.02825203  0.02726413  0.03382019  0.03382019  0.03389582\n",
      "  0.02802987  0.02678673  0.02405464  0.02377103  0.02642276  0.02111458\n",
      "  0.01786727  0.01590565  0.01631688  0.01280015  0.01262999  0.00692475\n",
      "  0.00681603  0.00103989  0.         -0.00149498 -0.00402353 -0.00655138\n",
      " -0.00905968 -0.01154395 -0.01400697 -0.01645409 -0.01889063 -0.02132076\n",
      " -0.02374723 -0.02617152 -0.02859423 -0.03101532 -0.03343445 -0.03585109\n",
      " -0.03826467 -0.04067456 -0.04308017 -0.04548089 -0.04787614 -0.05026532\n",
      " -0.05264786 -0.05502314 -0.05739057 -0.05974961 -0.06209965 -0.06444016\n",
      " -0.06677057 -0.06909038 -0.07139902 -0.07369599 -0.07598081 -0.07825303\n",
      " -0.08051212 -0.08275767 -0.08498922 -0.08720635 -0.08940862 -0.09159563\n",
      " -0.09376702 -0.09592237 -0.09806129 -0.10018347]\n",
      "13 day output [[-0.10228854]]\n",
      "14 day input [ 0.05434865  0.0472301   0.04717811  0.0441246   0.04447438  0.04659198\n",
      "  0.03868406  0.04547173  0.04586878  0.04674324  0.0397665   0.04315088\n",
      "  0.04164303  0.0469205   0.04797221  0.04818491  0.0498062   0.04934298\n",
      "  0.04947533  0.04340613  0.04356211  0.03985631  0.03494517  0.03221308\n",
      "  0.02573265  0.03193893  0.0344205   0.03204765  0.03368784  0.03014275\n",
      "  0.0283702   0.02696162  0.02113821  0.02210248  0.02838438  0.02822367\n",
      "  0.02825203  0.02726413  0.03382019  0.03382019  0.03389582  0.02802987\n",
      "  0.02678673  0.02405464  0.02377103  0.02642276  0.02111458  0.01786727\n",
      "  0.01590565  0.01631688  0.01280015  0.01262999  0.00692475  0.00681603\n",
      "  0.00103989  0.         -0.00149498 -0.00402353 -0.00655138 -0.00905968\n",
      " -0.01154395 -0.01400697 -0.01645409 -0.01889063 -0.02132076 -0.02374723\n",
      " -0.02617152 -0.02859423 -0.03101532 -0.03343445 -0.03585109 -0.03826467\n",
      " -0.04067456 -0.04308017 -0.04548089 -0.04787614 -0.05026532 -0.05264786\n",
      " -0.05502314 -0.05739057 -0.05974961 -0.06209965 -0.06444016 -0.06677057\n",
      " -0.06909038 -0.07139902 -0.07369599 -0.07598081 -0.07825303 -0.08051212\n",
      " -0.08275767 -0.08498922 -0.08720635 -0.08940862 -0.09159563 -0.09376702\n",
      " -0.09592237 -0.09806129 -0.10018347 -0.10228854]\n",
      "14 day output [[-0.10437621]]\n",
      "15 day input [ 0.0472301   0.04717811  0.0441246   0.04447438  0.04659198  0.03868406\n",
      "  0.04547173  0.04586878  0.04674324  0.0397665   0.04315088  0.04164303\n",
      "  0.0469205   0.04797221  0.04818491  0.0498062   0.04934298  0.04947533\n",
      "  0.04340613  0.04356211  0.03985631  0.03494517  0.03221308  0.02573265\n",
      "  0.03193893  0.0344205   0.03204765  0.03368784  0.03014275  0.0283702\n",
      "  0.02696162  0.02113821  0.02210248  0.02838438  0.02822367  0.02825203\n",
      "  0.02726413  0.03382019  0.03382019  0.03389582  0.02802987  0.02678673\n",
      "  0.02405464  0.02377103  0.02642276  0.02111458  0.01786727  0.01590565\n",
      "  0.01631688  0.01280015  0.01262999  0.00692475  0.00681603  0.00103989\n",
      "  0.         -0.00149498 -0.00402353 -0.00655138 -0.00905968 -0.01154395\n",
      " -0.01400697 -0.01645409 -0.01889063 -0.02132076 -0.02374723 -0.02617152\n",
      " -0.02859423 -0.03101532 -0.03343445 -0.03585109 -0.03826467 -0.04067456\n",
      " -0.04308017 -0.04548089 -0.04787614 -0.05026532 -0.05264786 -0.05502314\n",
      " -0.05739057 -0.05974961 -0.06209965 -0.06444016 -0.06677057 -0.06909038\n",
      " -0.07139902 -0.07369599 -0.07598081 -0.07825303 -0.08051212 -0.08275767\n",
      " -0.08498922 -0.08720635 -0.08940862 -0.09159563 -0.09376702 -0.09592237\n",
      " -0.09806129 -0.10018347 -0.10228854 -0.10437621]\n",
      "15 day output [[-0.10644609]]\n",
      "16 day input [ 0.04717811  0.0441246   0.04447438  0.04659198  0.03868406  0.04547173\n",
      "  0.04586878  0.04674324  0.0397665   0.04315088  0.04164303  0.0469205\n",
      "  0.04797221  0.04818491  0.0498062   0.04934298  0.04947533  0.04340613\n",
      "  0.04356211  0.03985631  0.03494517  0.03221308  0.02573265  0.03193893\n",
      "  0.0344205   0.03204765  0.03368784  0.03014275  0.0283702   0.02696162\n",
      "  0.02113821  0.02210248  0.02838438  0.02822367  0.02825203  0.02726413\n",
      "  0.03382019  0.03382019  0.03389582  0.02802987  0.02678673  0.02405464\n",
      "  0.02377103  0.02642276  0.02111458  0.01786727  0.01590565  0.01631688\n",
      "  0.01280015  0.01262999  0.00692475  0.00681603  0.00103989  0.\n",
      " -0.00149498 -0.00402353 -0.00655138 -0.00905968 -0.01154395 -0.01400697\n",
      " -0.01645409 -0.01889063 -0.02132076 -0.02374723 -0.02617152 -0.02859423\n",
      " -0.03101532 -0.03343445 -0.03585109 -0.03826467 -0.04067456 -0.04308017\n",
      " -0.04548089 -0.04787614 -0.05026532 -0.05264786 -0.05502314 -0.05739057\n",
      " -0.05974961 -0.06209965 -0.06444016 -0.06677057 -0.06909038 -0.07139902\n",
      " -0.07369599 -0.07598081 -0.07825303 -0.08051212 -0.08275767 -0.08498922\n",
      " -0.08720635 -0.08940862 -0.09159563 -0.09376702 -0.09592237 -0.09806129\n",
      " -0.10018347 -0.10228854 -0.10437621 -0.10644609]\n"
     ]
    },
    {
     "name": "stdout",
     "output_type": "stream",
     "text": [
      "16 day output [[-0.1084979]]\n",
      "17 day input [ 0.0441246   0.04447438  0.04659198  0.03868406  0.04547173  0.04586878\n",
      "  0.04674324  0.0397665   0.04315088  0.04164303  0.0469205   0.04797221\n",
      "  0.04818491  0.0498062   0.04934298  0.04947533  0.04340613  0.04356211\n",
      "  0.03985631  0.03494517  0.03221308  0.02573265  0.03193893  0.0344205\n",
      "  0.03204765  0.03368784  0.03014275  0.0283702   0.02696162  0.02113821\n",
      "  0.02210248  0.02838438  0.02822367  0.02825203  0.02726413  0.03382019\n",
      "  0.03382019  0.03389582  0.02802987  0.02678673  0.02405464  0.02377103\n",
      "  0.02642276  0.02111458  0.01786727  0.01590565  0.01631688  0.01280015\n",
      "  0.01262999  0.00692475  0.00681603  0.00103989  0.         -0.00149498\n",
      " -0.00402353 -0.00655138 -0.00905968 -0.01154395 -0.01400697 -0.01645409\n",
      " -0.01889063 -0.02132076 -0.02374723 -0.02617152 -0.02859423 -0.03101532\n",
      " -0.03343445 -0.03585109 -0.03826467 -0.04067456 -0.04308017 -0.04548089\n",
      " -0.04787614 -0.05026532 -0.05264786 -0.05502314 -0.05739057 -0.05974961\n",
      " -0.06209965 -0.06444016 -0.06677057 -0.06909038 -0.07139902 -0.07369599\n",
      " -0.07598081 -0.07825303 -0.08051212 -0.08275767 -0.08498922 -0.08720635\n",
      " -0.08940862 -0.09159563 -0.09376702 -0.09592237 -0.09806129 -0.10018347\n",
      " -0.10228854 -0.10437621 -0.10644609 -0.1084979 ]\n",
      "17 day output [[-0.11053135]]\n",
      "18 day input [ 0.04447438  0.04659198  0.03868406  0.04547173  0.04586878  0.04674324\n",
      "  0.0397665   0.04315088  0.04164303  0.0469205   0.04797221  0.04818491\n",
      "  0.0498062   0.04934298  0.04947533  0.04340613  0.04356211  0.03985631\n",
      "  0.03494517  0.03221308  0.02573265  0.03193893  0.0344205   0.03204765\n",
      "  0.03368784  0.03014275  0.0283702   0.02696162  0.02113821  0.02210248\n",
      "  0.02838438  0.02822367  0.02825203  0.02726413  0.03382019  0.03382019\n",
      "  0.03389582  0.02802987  0.02678673  0.02405464  0.02377103  0.02642276\n",
      "  0.02111458  0.01786727  0.01590565  0.01631688  0.01280015  0.01262999\n",
      "  0.00692475  0.00681603  0.00103989  0.         -0.00149498 -0.00402353\n",
      " -0.00655138 -0.00905968 -0.01154395 -0.01400697 -0.01645409 -0.01889063\n",
      " -0.02132076 -0.02374723 -0.02617152 -0.02859423 -0.03101532 -0.03343445\n",
      " -0.03585109 -0.03826467 -0.04067456 -0.04308017 -0.04548089 -0.04787614\n",
      " -0.05026532 -0.05264786 -0.05502314 -0.05739057 -0.05974961 -0.06209965\n",
      " -0.06444016 -0.06677057 -0.06909038 -0.07139902 -0.07369599 -0.07598081\n",
      " -0.07825303 -0.08051212 -0.08275767 -0.08498922 -0.08720635 -0.08940862\n",
      " -0.09159563 -0.09376702 -0.09592237 -0.09806129 -0.10018347 -0.10228854\n",
      " -0.10437621 -0.10644609 -0.1084979  -0.11053135]\n",
      "18 day output [[-0.11254621]]\n",
      "19 day input [ 0.04659198  0.03868406  0.04547173  0.04586878  0.04674324  0.0397665\n",
      "  0.04315088  0.04164303  0.0469205   0.04797221  0.04818491  0.0498062\n",
      "  0.04934298  0.04947533  0.04340613  0.04356211  0.03985631  0.03494517\n",
      "  0.03221308  0.02573265  0.03193893  0.0344205   0.03204765  0.03368784\n",
      "  0.03014275  0.0283702   0.02696162  0.02113821  0.02210248  0.02838438\n",
      "  0.02822367  0.02825203  0.02726413  0.03382019  0.03382019  0.03389582\n",
      "  0.02802987  0.02678673  0.02405464  0.02377103  0.02642276  0.02111458\n",
      "  0.01786727  0.01590565  0.01631688  0.01280015  0.01262999  0.00692475\n",
      "  0.00681603  0.00103989  0.         -0.00149498 -0.00402353 -0.00655138\n",
      " -0.00905968 -0.01154395 -0.01400697 -0.01645409 -0.01889063 -0.02132076\n",
      " -0.02374723 -0.02617152 -0.02859423 -0.03101532 -0.03343445 -0.03585109\n",
      " -0.03826467 -0.04067456 -0.04308017 -0.04548089 -0.04787614 -0.05026532\n",
      " -0.05264786 -0.05502314 -0.05739057 -0.05974961 -0.06209965 -0.06444016\n",
      " -0.06677057 -0.06909038 -0.07139902 -0.07369599 -0.07598081 -0.07825303\n",
      " -0.08051212 -0.08275767 -0.08498922 -0.08720635 -0.08940862 -0.09159563\n",
      " -0.09376702 -0.09592237 -0.09806129 -0.10018347 -0.10228854 -0.10437621\n",
      " -0.10644609 -0.1084979  -0.11053135 -0.11254621]\n",
      "19 day output [[-0.11454214]]\n",
      "20 day input [ 0.03868406  0.04547173  0.04586878  0.04674324  0.0397665   0.04315088\n",
      "  0.04164303  0.0469205   0.04797221  0.04818491  0.0498062   0.04934298\n",
      "  0.04947533  0.04340613  0.04356211  0.03985631  0.03494517  0.03221308\n",
      "  0.02573265  0.03193893  0.0344205   0.03204765  0.03368784  0.03014275\n",
      "  0.0283702   0.02696162  0.02113821  0.02210248  0.02838438  0.02822367\n",
      "  0.02825203  0.02726413  0.03382019  0.03382019  0.03389582  0.02802987\n",
      "  0.02678673  0.02405464  0.02377103  0.02642276  0.02111458  0.01786727\n",
      "  0.01590565  0.01631688  0.01280015  0.01262999  0.00692475  0.00681603\n",
      "  0.00103989  0.         -0.00149498 -0.00402353 -0.00655138 -0.00905968\n",
      " -0.01154395 -0.01400697 -0.01645409 -0.01889063 -0.02132076 -0.02374723\n",
      " -0.02617152 -0.02859423 -0.03101532 -0.03343445 -0.03585109 -0.03826467\n",
      " -0.04067456 -0.04308017 -0.04548089 -0.04787614 -0.05026532 -0.05264786\n",
      " -0.05502314 -0.05739057 -0.05974961 -0.06209965 -0.06444016 -0.06677057\n",
      " -0.06909038 -0.07139902 -0.07369599 -0.07598081 -0.07825303 -0.08051212\n",
      " -0.08275767 -0.08498922 -0.08720635 -0.08940862 -0.09159563 -0.09376702\n",
      " -0.09592237 -0.09806129 -0.10018347 -0.10228854 -0.10437621 -0.10644609\n",
      " -0.1084979  -0.11053135 -0.11254621 -0.11454214]\n",
      "20 day output [[-0.1165189]]\n",
      "21 day input [ 0.04547173  0.04586878  0.04674324  0.0397665   0.04315088  0.04164303\n",
      "  0.0469205   0.04797221  0.04818491  0.0498062   0.04934298  0.04947533\n",
      "  0.04340613  0.04356211  0.03985631  0.03494517  0.03221308  0.02573265\n",
      "  0.03193893  0.0344205   0.03204765  0.03368784  0.03014275  0.0283702\n",
      "  0.02696162  0.02113821  0.02210248  0.02838438  0.02822367  0.02825203\n",
      "  0.02726413  0.03382019  0.03382019  0.03389582  0.02802987  0.02678673\n",
      "  0.02405464  0.02377103  0.02642276  0.02111458  0.01786727  0.01590565\n",
      "  0.01631688  0.01280015  0.01262999  0.00692475  0.00681603  0.00103989\n",
      "  0.         -0.00149498 -0.00402353 -0.00655138 -0.00905968 -0.01154395\n",
      " -0.01400697 -0.01645409 -0.01889063 -0.02132076 -0.02374723 -0.02617152\n",
      " -0.02859423 -0.03101532 -0.03343445 -0.03585109 -0.03826467 -0.04067456\n",
      " -0.04308017 -0.04548089 -0.04787614 -0.05026532 -0.05264786 -0.05502314\n",
      " -0.05739057 -0.05974961 -0.06209965 -0.06444016 -0.06677057 -0.06909038\n",
      " -0.07139902 -0.07369599 -0.07598081 -0.07825303 -0.08051212 -0.08275767\n",
      " -0.08498922 -0.08720635 -0.08940862 -0.09159563 -0.09376702 -0.09592237\n",
      " -0.09806129 -0.10018347 -0.10228854 -0.10437621 -0.10644609 -0.1084979\n",
      " -0.11053135 -0.11254621 -0.11454214 -0.1165189 ]\n",
      "21 day output [[-0.11847632]]\n",
      "22 day input [ 0.04586878  0.04674324  0.0397665   0.04315088  0.04164303  0.0469205\n",
      "  0.04797221  0.04818491  0.0498062   0.04934298  0.04947533  0.04340613\n",
      "  0.04356211  0.03985631  0.03494517  0.03221308  0.02573265  0.03193893\n",
      "  0.0344205   0.03204765  0.03368784  0.03014275  0.0283702   0.02696162\n",
      "  0.02113821  0.02210248  0.02838438  0.02822367  0.02825203  0.02726413\n",
      "  0.03382019  0.03382019  0.03389582  0.02802987  0.02678673  0.02405464\n",
      "  0.02377103  0.02642276  0.02111458  0.01786727  0.01590565  0.01631688\n",
      "  0.01280015  0.01262999  0.00692475  0.00681603  0.00103989  0.\n",
      " -0.00149498 -0.00402353 -0.00655138 -0.00905968 -0.01154395 -0.01400697\n",
      " -0.01645409 -0.01889063 -0.02132076 -0.02374723 -0.02617152 -0.02859423\n",
      " -0.03101532 -0.03343445 -0.03585109 -0.03826467 -0.04067456 -0.04308017\n",
      " -0.04548089 -0.04787614 -0.05026532 -0.05264786 -0.05502314 -0.05739057\n",
      " -0.05974961 -0.06209965 -0.06444016 -0.06677057 -0.06909038 -0.07139902\n",
      " -0.07369599 -0.07598081 -0.07825303 -0.08051212 -0.08275767 -0.08498922\n",
      " -0.08720635 -0.08940862 -0.09159563 -0.09376702 -0.09592237 -0.09806129\n",
      " -0.10018347 -0.10228854 -0.10437621 -0.10644609 -0.1084979  -0.11053135\n",
      " -0.11254621 -0.11454214 -0.1165189  -0.11847632]\n",
      "22 day output [[-0.12041408]]\n",
      "23 day input [ 0.04674324  0.0397665   0.04315088  0.04164303  0.0469205   0.04797221\n",
      "  0.04818491  0.0498062   0.04934298  0.04947533  0.04340613  0.04356211\n",
      "  0.03985631  0.03494517  0.03221308  0.02573265  0.03193893  0.0344205\n",
      "  0.03204765  0.03368784  0.03014275  0.0283702   0.02696162  0.02113821\n",
      "  0.02210248  0.02838438  0.02822367  0.02825203  0.02726413  0.03382019\n",
      "  0.03382019  0.03389582  0.02802987  0.02678673  0.02405464  0.02377103\n",
      "  0.02642276  0.02111458  0.01786727  0.01590565  0.01631688  0.01280015\n",
      "  0.01262999  0.00692475  0.00681603  0.00103989  0.         -0.00149498\n",
      " -0.00402353 -0.00655138 -0.00905968 -0.01154395 -0.01400697 -0.01645409\n",
      " -0.01889063 -0.02132076 -0.02374723 -0.02617152 -0.02859423 -0.03101532\n",
      " -0.03343445 -0.03585109 -0.03826467 -0.04067456 -0.04308017 -0.04548089\n",
      " -0.04787614 -0.05026532 -0.05264786 -0.05502314 -0.05739057 -0.05974961\n",
      " -0.06209965 -0.06444016 -0.06677057 -0.06909038 -0.07139902 -0.07369599\n",
      " -0.07598081 -0.07825303 -0.08051212 -0.08275767 -0.08498922 -0.08720635\n",
      " -0.08940862 -0.09159563 -0.09376702 -0.09592237 -0.09806129 -0.10018347\n",
      " -0.10228854 -0.10437621 -0.10644609 -0.1084979  -0.11053135 -0.11254621\n",
      " -0.11454214 -0.1165189  -0.11847632 -0.12041408]\n",
      "23 day output [[-0.12233207]]\n",
      "24 day input [ 0.0397665   0.04315088  0.04164303  0.0469205   0.04797221  0.04818491\n",
      "  0.0498062   0.04934298  0.04947533  0.04340613  0.04356211  0.03985631\n",
      "  0.03494517  0.03221308  0.02573265  0.03193893  0.0344205   0.03204765\n",
      "  0.03368784  0.03014275  0.0283702   0.02696162  0.02113821  0.02210248\n",
      "  0.02838438  0.02822367  0.02825203  0.02726413  0.03382019  0.03382019\n",
      "  0.03389582  0.02802987  0.02678673  0.02405464  0.02377103  0.02642276\n",
      "  0.02111458  0.01786727  0.01590565  0.01631688  0.01280015  0.01262999\n",
      "  0.00692475  0.00681603  0.00103989  0.         -0.00149498 -0.00402353\n",
      " -0.00655138 -0.00905968 -0.01154395 -0.01400697 -0.01645409 -0.01889063\n",
      " -0.02132076 -0.02374723 -0.02617152 -0.02859423 -0.03101532 -0.03343445\n",
      " -0.03585109 -0.03826467 -0.04067456 -0.04308017 -0.04548089 -0.04787614\n",
      " -0.05026532 -0.05264786 -0.05502314 -0.05739057 -0.05974961 -0.06209965\n",
      " -0.06444016 -0.06677057 -0.06909038 -0.07139902 -0.07369599 -0.07598081\n",
      " -0.07825303 -0.08051212 -0.08275767 -0.08498922 -0.08720635 -0.08940862\n",
      " -0.09159563 -0.09376702 -0.09592237 -0.09806129 -0.10018347 -0.10228854\n",
      " -0.10437621 -0.10644609 -0.1084979  -0.11053135 -0.11254621 -0.11454214\n",
      " -0.1165189  -0.11847632 -0.12041408 -0.12233207]\n"
     ]
    },
    {
     "name": "stdout",
     "output_type": "stream",
     "text": [
      "24 day output [[-0.12422998]]\n",
      "25 day input [ 0.04315088  0.04164303  0.0469205   0.04797221  0.04818491  0.0498062\n",
      "  0.04934298  0.04947533  0.04340613  0.04356211  0.03985631  0.03494517\n",
      "  0.03221308  0.02573265  0.03193893  0.0344205   0.03204765  0.03368784\n",
      "  0.03014275  0.0283702   0.02696162  0.02113821  0.02210248  0.02838438\n",
      "  0.02822367  0.02825203  0.02726413  0.03382019  0.03382019  0.03389582\n",
      "  0.02802987  0.02678673  0.02405464  0.02377103  0.02642276  0.02111458\n",
      "  0.01786727  0.01590565  0.01631688  0.01280015  0.01262999  0.00692475\n",
      "  0.00681603  0.00103989  0.         -0.00149498 -0.00402353 -0.00655138\n",
      " -0.00905968 -0.01154395 -0.01400697 -0.01645409 -0.01889063 -0.02132076\n",
      " -0.02374723 -0.02617152 -0.02859423 -0.03101532 -0.03343445 -0.03585109\n",
      " -0.03826467 -0.04067456 -0.04308017 -0.04548089 -0.04787614 -0.05026532\n",
      " -0.05264786 -0.05502314 -0.05739057 -0.05974961 -0.06209965 -0.06444016\n",
      " -0.06677057 -0.06909038 -0.07139902 -0.07369599 -0.07598081 -0.07825303\n",
      " -0.08051212 -0.08275767 -0.08498922 -0.08720635 -0.08940862 -0.09159563\n",
      " -0.09376702 -0.09592237 -0.09806129 -0.10018347 -0.10228854 -0.10437621\n",
      " -0.10644609 -0.1084979  -0.11053135 -0.11254621 -0.11454214 -0.1165189\n",
      " -0.11847632 -0.12041408 -0.12233207 -0.12422998]\n",
      "25 day output [[-0.12610771]]\n",
      "26 day input [ 0.04164303  0.0469205   0.04797221  0.04818491  0.0498062   0.04934298\n",
      "  0.04947533  0.04340613  0.04356211  0.03985631  0.03494517  0.03221308\n",
      "  0.02573265  0.03193893  0.0344205   0.03204765  0.03368784  0.03014275\n",
      "  0.0283702   0.02696162  0.02113821  0.02210248  0.02838438  0.02822367\n",
      "  0.02825203  0.02726413  0.03382019  0.03382019  0.03389582  0.02802987\n",
      "  0.02678673  0.02405464  0.02377103  0.02642276  0.02111458  0.01786727\n",
      "  0.01590565  0.01631688  0.01280015  0.01262999  0.00692475  0.00681603\n",
      "  0.00103989  0.         -0.00149498 -0.00402353 -0.00655138 -0.00905968\n",
      " -0.01154395 -0.01400697 -0.01645409 -0.01889063 -0.02132076 -0.02374723\n",
      " -0.02617152 -0.02859423 -0.03101532 -0.03343445 -0.03585109 -0.03826467\n",
      " -0.04067456 -0.04308017 -0.04548089 -0.04787614 -0.05026532 -0.05264786\n",
      " -0.05502314 -0.05739057 -0.05974961 -0.06209965 -0.06444016 -0.06677057\n",
      " -0.06909038 -0.07139902 -0.07369599 -0.07598081 -0.07825303 -0.08051212\n",
      " -0.08275767 -0.08498922 -0.08720635 -0.08940862 -0.09159563 -0.09376702\n",
      " -0.09592237 -0.09806129 -0.10018347 -0.10228854 -0.10437621 -0.10644609\n",
      " -0.1084979  -0.11053135 -0.11254621 -0.11454214 -0.1165189  -0.11847632\n",
      " -0.12041408 -0.12233207 -0.12422998 -0.12610771]\n",
      "26 day output [[-0.12796506]]\n",
      "27 day input [ 0.0469205   0.04797221  0.04818491  0.0498062   0.04934298  0.04947533\n",
      "  0.04340613  0.04356211  0.03985631  0.03494517  0.03221308  0.02573265\n",
      "  0.03193893  0.0344205   0.03204765  0.03368784  0.03014275  0.0283702\n",
      "  0.02696162  0.02113821  0.02210248  0.02838438  0.02822367  0.02825203\n",
      "  0.02726413  0.03382019  0.03382019  0.03389582  0.02802987  0.02678673\n",
      "  0.02405464  0.02377103  0.02642276  0.02111458  0.01786727  0.01590565\n",
      "  0.01631688  0.01280015  0.01262999  0.00692475  0.00681603  0.00103989\n",
      "  0.         -0.00149498 -0.00402353 -0.00655138 -0.00905968 -0.01154395\n",
      " -0.01400697 -0.01645409 -0.01889063 -0.02132076 -0.02374723 -0.02617152\n",
      " -0.02859423 -0.03101532 -0.03343445 -0.03585109 -0.03826467 -0.04067456\n",
      " -0.04308017 -0.04548089 -0.04787614 -0.05026532 -0.05264786 -0.05502314\n",
      " -0.05739057 -0.05974961 -0.06209965 -0.06444016 -0.06677057 -0.06909038\n",
      " -0.07139902 -0.07369599 -0.07598081 -0.07825303 -0.08051212 -0.08275767\n",
      " -0.08498922 -0.08720635 -0.08940862 -0.09159563 -0.09376702 -0.09592237\n",
      " -0.09806129 -0.10018347 -0.10228854 -0.10437621 -0.10644609 -0.1084979\n",
      " -0.11053135 -0.11254621 -0.11454214 -0.1165189  -0.11847632 -0.12041408\n",
      " -0.12233207 -0.12422998 -0.12610771 -0.12796506]\n",
      "27 day output [[-0.12980191]]\n",
      "28 day input [ 0.04797221  0.04818491  0.0498062   0.04934298  0.04947533  0.04340613\n",
      "  0.04356211  0.03985631  0.03494517  0.03221308  0.02573265  0.03193893\n",
      "  0.0344205   0.03204765  0.03368784  0.03014275  0.0283702   0.02696162\n",
      "  0.02113821  0.02210248  0.02838438  0.02822367  0.02825203  0.02726413\n",
      "  0.03382019  0.03382019  0.03389582  0.02802987  0.02678673  0.02405464\n",
      "  0.02377103  0.02642276  0.02111458  0.01786727  0.01590565  0.01631688\n",
      "  0.01280015  0.01262999  0.00692475  0.00681603  0.00103989  0.\n",
      " -0.00149498 -0.00402353 -0.00655138 -0.00905968 -0.01154395 -0.01400697\n",
      " -0.01645409 -0.01889063 -0.02132076 -0.02374723 -0.02617152 -0.02859423\n",
      " -0.03101532 -0.03343445 -0.03585109 -0.03826467 -0.04067456 -0.04308017\n",
      " -0.04548089 -0.04787614 -0.05026532 -0.05264786 -0.05502314 -0.05739057\n",
      " -0.05974961 -0.06209965 -0.06444016 -0.06677057 -0.06909038 -0.07139902\n",
      " -0.07369599 -0.07598081 -0.07825303 -0.08051212 -0.08275767 -0.08498922\n",
      " -0.08720635 -0.08940862 -0.09159563 -0.09376702 -0.09592237 -0.09806129\n",
      " -0.10018347 -0.10228854 -0.10437621 -0.10644609 -0.1084979  -0.11053135\n",
      " -0.11254621 -0.11454214 -0.1165189  -0.11847632 -0.12041408 -0.12233207\n",
      " -0.12422998 -0.12610771 -0.12796506 -0.12980191]\n",
      "28 day output [[-0.13161811]]\n",
      "29 day input [ 0.04818491  0.0498062   0.04934298  0.04947533  0.04340613  0.04356211\n",
      "  0.03985631  0.03494517  0.03221308  0.02573265  0.03193893  0.0344205\n",
      "  0.03204765  0.03368784  0.03014275  0.0283702   0.02696162  0.02113821\n",
      "  0.02210248  0.02838438  0.02822367  0.02825203  0.02726413  0.03382019\n",
      "  0.03382019  0.03389582  0.02802987  0.02678673  0.02405464  0.02377103\n",
      "  0.02642276  0.02111458  0.01786727  0.01590565  0.01631688  0.01280015\n",
      "  0.01262999  0.00692475  0.00681603  0.00103989  0.         -0.00149498\n",
      " -0.00402353 -0.00655138 -0.00905968 -0.01154395 -0.01400697 -0.01645409\n",
      " -0.01889063 -0.02132076 -0.02374723 -0.02617152 -0.02859423 -0.03101532\n",
      " -0.03343445 -0.03585109 -0.03826467 -0.04067456 -0.04308017 -0.04548089\n",
      " -0.04787614 -0.05026532 -0.05264786 -0.05502314 -0.05739057 -0.05974961\n",
      " -0.06209965 -0.06444016 -0.06677057 -0.06909038 -0.07139902 -0.07369599\n",
      " -0.07598081 -0.07825303 -0.08051212 -0.08275767 -0.08498922 -0.08720635\n",
      " -0.08940862 -0.09159563 -0.09376702 -0.09592237 -0.09806129 -0.10018347\n",
      " -0.10228854 -0.10437621 -0.10644609 -0.1084979  -0.11053135 -0.11254621\n",
      " -0.11454214 -0.1165189  -0.11847632 -0.12041408 -0.12233207 -0.12422998\n",
      " -0.12610771 -0.12796506 -0.12980191 -0.13161811]\n",
      "29 day output [[-0.13341352]]\n",
      "[[-0.07369598746299744], [-0.07598081231117249], [-0.07825303077697754], [-0.08051212131977081], [-0.08275766670703888], [-0.08498921990394592], [-0.08720634877681732], [-0.08940862119197845], [-0.09159563481807709], [-0.09376701712608337], [-0.09592236578464508], [-0.09806129336357117], [-0.10018347203731537], [-0.10228854417800903], [-0.10437621176242828], [-0.10644608736038208], [-0.10849790275096893], [-0.11053134500980377], [-0.11254620552062988], [-0.11454214155673981], [-0.11651889979839325], [-0.11847631633281708], [-0.12041407823562622], [-0.12233206629753113], [-0.12422998249530792], [-0.12610770761966705], [-0.1279650628566742], [-0.1298019140958786], [-0.13161811232566833], [-0.13341352343559265]]\n"
     ]
    }
   ],
   "source": [
    "# Demo prediction for the next 30days\n",
    "from numpy import array\n",
    "\n",
    "list_output=[]\n",
    "n_steps=100\n",
    "i=0\n",
    "while(i<30):\n",
    "  if(len(temp_input)>100):\n",
    "    x_input=np.array(temp_input[1:])\n",
    "    print(\"{} day input {}\".format(i, x_input))\n",
    "    x_input=x_input.reshape(1, -1)\n",
    "    x_input=x_input.reshape(1, n_steps, 1)\n",
    "    yhat=model.predict(x_input, verbose=0)\n",
    "    print(\"{} day output {}\".format(i, yhat))\n",
    "    temp_input.extend(yhat[0].tolist())\n",
    "    temp_input=temp_input[1:]\n",
    "    list_output.extend(yhat.tolist())\n",
    "    i += 1\n",
    "  else:\n",
    "    x_input=x_input.reshape(1, n_steps, 1)\n",
    "    yhat=model.predict(x_input, verbose=0)\n",
    "    print(yhat[0])\n",
    "    temp_input.extend(yhat[0].tolist())\n",
    "    print(len(temp_input))\n",
    "    list_output.extend(yhat.tolist())\n",
    "    i += 1\n",
    "\n",
    "print(list_output)"
   ]
  },
  {
   "cell_type": "code",
   "execution_count": 44,
   "metadata": {
    "id": "zGe6L8Gh5-RB"
   },
   "outputs": [],
   "source": [
    "day_new=np.arange(1, 101)\n",
    "day_pred=np.arange(101, 131)"
   ]
  },
  {
   "cell_type": "code",
   "execution_count": 45,
   "metadata": {
    "id": "wKSv9_IA6Qwe"
   },
   "outputs": [
    {
     "data": {
      "text/plain": [
       "(1257,\n",
       " array([  1,   2,   3,   4,   5,   6,   7,   8,   9,  10,  11,  12,  13,\n",
       "         14,  15,  16,  17,  18,  19,  20,  21,  22,  23,  24,  25,  26,\n",
       "         27,  28,  29,  30,  31,  32,  33,  34,  35,  36,  37,  38,  39,\n",
       "         40,  41,  42,  43,  44,  45,  46,  47,  48,  49,  50,  51,  52,\n",
       "         53,  54,  55,  56,  57,  58,  59,  60,  61,  62,  63,  64,  65,\n",
       "         66,  67,  68,  69,  70,  71,  72,  73,  74,  75,  76,  77,  78,\n",
       "         79,  80,  81,  82,  83,  84,  85,  86,  87,  88,  89,  90,  91,\n",
       "         92,  93,  94,  95,  96,  97,  98,  99, 100]),\n",
       " array([101, 102, 103, 104, 105, 106, 107, 108, 109, 110, 111, 112, 113,\n",
       "        114, 115, 116, 117, 118, 119, 120, 121, 122, 123, 124, 125, 126,\n",
       "        127, 128, 129, 130]))"
      ]
     },
     "execution_count": 45,
     "metadata": {},
     "output_type": "execute_result"
    }
   ],
   "source": [
    "len(df1), day_new, day_pred"
   ]
  },
  {
   "cell_type": "code",
   "execution_count": 32,
   "metadata": {
    "id": "_Ed51pWB6kc2"
   },
   "outputs": [
    {
     "data": {
      "text/plain": [
       "[<matplotlib.lines.Line2D at 0x1643fe8b3a0>]"
      ]
     },
     "execution_count": 32,
     "metadata": {},
     "output_type": "execute_result"
    },
    {
     "data": {
      "image/png": "[encoded data removed]",
      "text/plain": [
       "<Figure size 640x480 with 1 Axes>"
      ]
     },
     "metadata": {},
     "output_type": "display_data"
    }
   ],
   "source": [
    "plt.plot(day_new, scaler.inverse_transform(df1[(len(df1)-100):]))\n",
    "plt.plot(day_pred, scaler.inverse_transform(list_output))"
   ]
  },
  {
   "cell_type": "code",
   "execution_count": 33,
   "metadata": {
    "id": "parrou2H7RF7"
   },
   "outputs": [
    {
     "data": {
      "text/plain": [
       "[<matplotlib.lines.Line2D at 0x16437568880>]"
      ]
     },
     "execution_count": 33,
     "metadata": {},
     "output_type": "execute_result"
    },
    {
     "data": {
      "image/png": "[encoded data removed]",
      "text/plain": [
       "<Figure size 640x480 with 1 Axes>"
      ]
     },
     "metadata": {},
     "output_type": "display_data"
    }
   ],
   "source": [
    "df2=df1.tolist()\n",
    "df2.extend(list_output)\n",
    "plt.plot(df2[1000:])"
   ]
  },
  {
   "cell_type": "code",
   "execution_count": null,
   "metadata": {},
   "outputs": [],
   "source": []
  }
 ],
 "metadata": {
  "colab": {
   "authorship_tag": "ABX9TyPMHLfqx9NzVjP2z+zJqTAS",
   "provenance": []
  },
  "kernelspec": {
   "display_name": "Python 3 (ipykernel)",
   "language": "python",
   "name": "python3"
  },
  "language_info": {
   "codemirror_mode": {
    "name": "ipython",
    "version": 3
   },
   "file_extension": ".py",
   "mimetype": "text/x-python",
   "name": "python",
   "nbconvert_exporter": "python",
   "pygments_lexer": "ipython3",
   "version": "3.10.9"
  }
 },
 "nbformat": 4,
 "nbformat_minor": 1
}
